{
 "cells": [
  {
   "cell_type": "code",
   "execution_count": 1,
   "metadata": {},
   "outputs": [],
   "source": [
    "#Importing Python Machine Learning Libraries\n",
    "import numpy as np\n",
    "np.set_printoptions(threshold=np.inf) ###temporary print options so that the output is not truncated.\n",
    "import pandas as pd\n",
    "from sklearn.model_selection import train_test_split\n",
    "from sklearn.tree import DecisionTreeClassifier\n",
    "from sklearn.metrics import accuracy_score\n",
    "from sklearn import tree\n",
    "\n",
    "from sklearn.externals.six import StringIO\n",
    "from IPython.display import Image\n",
    "from sklearn.tree import export_graphviz\n",
    "import pydotplus\n",
    "import collections\n"
   ]
  },
  {
   "cell_type": "code",
   "execution_count": 2,
   "metadata": {},
   "outputs": [],
   "source": [
    "# Data Import\n",
    "###seperate columns by , and apply the header\n",
    "df= pd.read_csv('netmate_out.csv', sep = ',', header = None) \n",
    "\n",
    "df.columns =[\"srcip\", #0\n",
    "            \"srcport\", #1\n",
    "            \"dstip\", #2\n",
    "            \"dstport\", #3\n",
    "            \"proto\", #4\n",
    "            \"total_fpackets\", #5\n",
    "            \"total_fvolume\", #6\n",
    "            \"total_bpackets\", #7\n",
    "            \"total_bvolume\", #8\n",
    "            \"min_fpktl\", #9\n",
    "            \"mean_fpktl\", #10\n",
    "            \"max_fpktl\", #11\n",
    "            \"std_fpktl\", #12\n",
    "            \"min_bpktl\", #13\n",
    "            \"mean_bpktl\", #14\n",
    "            \"max_bpktl\", #15\n",
    "            \"std_bpktl\", #16\n",
    "            \"min_fiat\", #17\n",
    "            \"mean_fiat\", #18\n",
    "            \"max_fiat\", #19\n",
    "            \"std_fiat\", #20\n",
    "            \"min_biat\", #21\n",
    "            \"mean_biat\", #22\n",
    "            \"max_biat\", #23\n",
    "            \"std_biat\", #24\n",
    "            \"duration\", #25\n",
    "            \"min_active\", #26\n",
    "            \"mean_active\", #27\n",
    "            \"max_active\", #28\n",
    "            \"std_active\", #29\n",
    "            \"min_idle\", #30\n",
    "            \"mean_idle\", #31\n",
    "            \"max_idle\", #32\n",
    "            \"std_idle\", #33\n",
    "            \"sflow_fpackets\", #34\n",
    "            \"sflow_fbytes\", #35\n",
    "            \"sflow_bpackets\", #36\n",
    "            \"sflow_bbytes\", #37\n",
    "            \"fpsh_cnt\", #38\n",
    "            \"bpsh_cnt\", #39\n",
    "            \"furg_cnt\", #40\n",
    "            \"burg_cnt\", #41\n",
    "            \"total_fhlen\", #42\n",
    "            \"total_bhlen\", #43 ###44 flow statistics total\n",
    "            \"target_variable\"] #44\n",
    "\n",
    "interesting_features = df.loc[:, \n",
    "                           ['proto', #4 ==X0\n",
    "                           'min_fpktl', #9 ==X1\n",
    "                           'mean_fpktl', #10 ==X2\n",
    "                           'max_fpktl', #11 ==X3\n",
    "                           'std_fpktl', #12 ==X4\n",
    "                           'min_bpktl', #13 ==X5\n",
    "                           'mean_bpktl', #14 ==X6\n",
    "                           'max_bpktl', #15 ==X7 \n",
    "                           'std_bpktl', #16 ==X8\n",
    "                           'min_fiat', #17 ==X9\n",
    "                           'mean_fiat', #18 ==X10\n",
    "                           'max_fiat', #19 ==X11\n",
    "                           'std_fiat', #20 ==X12\n",
    "                           'min_biat', #21 ==X13\n",
    "                           'mean_biat', #22 ==X14\n",
    "                           'max_biat', #23 ==X15\n",
    "                           'std_biat']] #24 ==X16\n",
    "                            \n",
    "target_variable = df.loc[:,['target_variable']] #44 ==Y          "
   ]
  },
  {
   "cell_type": "code",
   "execution_count": 3,
   "metadata": {},
   "outputs": [],
   "source": [
    "header =list(interesting_features.columns.values)\n",
    "#print(header)"
   ]
  },
  {
   "cell_type": "code",
   "execution_count": 4,
   "metadata": {},
   "outputs": [
    {
     "data": {
      "text/plain": [
       "DecisionTreeClassifier(class_weight=None, criterion='gini', max_depth=None,\n",
       "            max_features=None, max_leaf_nodes=None,\n",
       "            min_impurity_decrease=0.0, min_impurity_split=None,\n",
       "            min_samples_leaf=1, min_samples_split=2,\n",
       "            min_weight_fraction_leaf=0.0, presort=False, random_state=None,\n",
       "            splitter='best')"
      ]
     },
     "execution_count": 4,
     "metadata": {},
     "output_type": "execute_result"
    }
   ],
   "source": [
    "dtree=tree.DecisionTreeClassifier()\n",
    "dtree.fit(interesting_features,target_variable)"
   ]
  },
  {
   "cell_type": "code",
   "execution_count": 5,
   "metadata": {},
   "outputs": [
    {
     "data": {
      "text/plain": [
       "True"
      ]
     },
     "execution_count": 5,
     "metadata": {},
     "output_type": "execute_result"
    }
   ],
   "source": [
    "dot_data = tree.export_graphviz(dtree, feature_names= header, out_file=None,\n",
    "               filled=True, rounded=True)\n",
    "\n",
    "graph = pydotplus.graph_from_dot_data(dot_data)\n",
    "\n",
    "colors = ('turquoise', 'orange')\n",
    "edges = collections.defaultdict(list)\n",
    "\n",
    "for edge in graph.get_edge_list():\n",
    "    edges[edge.get_source()].append(int(edge.get_destination()))\n",
    "\n",
    "for edge in edges:\n",
    "    edges[edge].sort()    \n",
    "    for i in range(2):\n",
    "        dest = graph.get_node(str(edges[edge][i]))[0]\n",
    "        dest.set_fillcolor(colors[i])\n",
    "\n",
    "graph.write_png('tree.png')\n"
   ]
  },
  {
   "cell_type": "code",
   "execution_count": null,
   "metadata": {},
   "outputs": [],
   "source": []
  },
  {
   "cell_type": "code",
   "execution_count": null,
   "metadata": {},
   "outputs": [],
   "source": []
  }
 ],
 "metadata": {
  "kernelspec": {
   "display_name": "Python 3",
   "language": "python",
   "name": "python3"
  },
  "language_info": {
   "codemirror_mode": {
    "name": "ipython",
    "version": 3
   },
   "file_extension": ".py",
   "mimetype": "text/x-python",
   "name": "python",
   "nbconvert_exporter": "python",
   "pygments_lexer": "ipython3",
   "version": "3.6.5"
  }
 },
 "nbformat": 4,
 "nbformat_minor": 2
}
